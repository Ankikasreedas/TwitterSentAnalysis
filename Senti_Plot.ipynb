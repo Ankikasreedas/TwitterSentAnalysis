{
  "nbformat": 4,
  "nbformat_minor": 0,
  "metadata": {
    "colab": {
      "name": "Senti_Plot.ipynb",
      "provenance": []
    },
    "kernelspec": {
      "name": "python3",
      "display_name": "Python 3"
    }
  },
  "cells": [
    {
      "cell_type": "code",
      "metadata": {
        "id": "5Yv0zsemTTHO",
        "colab_type": "code",
        "colab": {}
      },
      "source": [
        "from textblob import TextBlob \n",
        "import tweepy, sys\n",
        "import matplotlib.pyplot as plt"
      ],
      "execution_count": 0,
      "outputs": []
    },
    {
      "cell_type": "code",
      "metadata": {
        "id": "G_jq2VKfTty0",
        "colab_type": "code",
        "colab": {}
      },
      "source": [
        "def percentage(part,whole):\n",
        "  return 100 * float(part) / float(whole)"
      ],
      "execution_count": 0,
      "outputs": []
    },
    {
      "cell_type": "code",
      "metadata": {
        "id": "Fpf8Nf_MUE14",
        "colab_type": "code",
        "colab": {}
      },
      "source": [
        "consumer_key = 'jcEfLoutZzZdIArIMXsN6hC5P'\n",
        "consumer_secret = 'oWRfYejO0LtqGaqJxud3xteVSudHFf9kfzmj6P99ukAAo640ve'\n",
        "access_token = '934009516378804225-dQYYghLV3bg2PZzJw1OinsDdNC5RFmO'\n",
        "access_token_secret = '9dYXc9F9Y3M0N1iBADIlrN2LB8p1KYyitD9cjsK2i6pN0'\n",
        "\n",
        "auth = tweepy.auth.OAuthHandler(consumer_key, consumer_secret)\n",
        "auth.set_access_token(access_token, access_token_secret)\n",
        "api = tweepy.API(auth)\n",
        "api = tweepy.API(auth, wait_on_rate_limit=True)\n"
      ],
      "execution_count": 0,
      "outputs": []
    },
    {
      "cell_type": "code",
      "metadata": {
        "id": "LaUW7T93URs1",
        "colab_type": "code",
        "colab": {}
      },
      "source": [
        "searchTerm = input(\"Enter keyword to search about: \")\n",
        "noOfSearchTerms = int(input(\"Enter the no of search terms: \"))\n",
        "tweets = tweepy.Cursor(api.search, q=searchTerm, lang=\"en\", since=\"2019-11-04\", until=\"2019-11-05\").items(noOfSearchTerms)\n",
        "\n",
        "positive = 0\n",
        "negative = 0\n",
        "neutral = 0\n",
        "polarity = 0 #for avg polarity\n",
        "\n",
        "for tweet in tweets:\n",
        "  print(tweet.created_at, tweet.text)\n",
        "  analysis = TextBlob(tweet.text)\n",
        "  print(analysis.sentiment)\n",
        "  polarity += analysis.sentiment.polarity #adds polarity of all tweets \n",
        "  print(polarity) \n",
        "  print(\"\")\n",
        "  if(analysis.sentiment.polarity == 0):\n",
        "    neutral += 1\n",
        "  elif(analysis.sentiment.polarity < 0.00):\n",
        "    negative += 1\n",
        "  elif(analysis.sentiment.polarity > 0.00):\n",
        "    positive += 1\n",
        "\n",
        "positive = percentage(positive, noOfSearchTerms)\n",
        "negative = percentage(negative, noOfSearchTerms)\n",
        "neutral = percentage(neutral, noOfSearchTerms)\n",
        "#for making the result upto two decimal places\n",
        "positive = format(positive, '.2f')\n",
        "negative = format(negative, '.2f')\n",
        "neutral = format(neutral, '.2f')\n",
        "\n",
        "print('How people are reacting on ' +str(searchTerm)+ ' by analyzing ' +str(noOfSearchTerms)+ ' tweets')\n",
        "if(polarity == 0):\n",
        "  print('Neutral ['+str(neutral)+ '%]')\n",
        "elif(polarity < 0):\n",
        "  print('Negative ['+str(negative)+ '%]')\n",
        "elif(polarity > 0):\n",
        "  print('positive ['+str(positive)+ '%]')\n",
        "\n",
        "labels = ['positive ['+str(positive)+ '%]', 'neutral ['+str(neutral)+ '%]', 'negative ['+str(negative)+ '%]']\n",
        "sizes = [positive, neutral, negative]\n",
        "colors = ['green', 'gold', 'red']\n",
        "patches, texts = plt.pie(sizes, colors=colors, startangle=90)\n",
        "plt.legend(patches, labels, loc=\"best\")\n",
        "plt.title('How people are responding on ' +str(searchTerm)+ ' by analyzing ' +str(noOfSearchTerms)+ ' tweets', fontsize=\"16\")\n",
        "plt.axis('equal')\n",
        "plt.tight_layout()\n",
        "plt.show()\n",
        "\n",
        "\n",
        "\n",
        "\n"
      ],
      "execution_count": 0,
      "outputs": []
    },
    {
      "cell_type": "code",
      "metadata": {
        "id": "Q-e1sgtma5Xk",
        "colab_type": "code",
        "colab": {}
      },
      "source": [
        ""
      ],
      "execution_count": 0,
      "outputs": []
    }
  ]
}